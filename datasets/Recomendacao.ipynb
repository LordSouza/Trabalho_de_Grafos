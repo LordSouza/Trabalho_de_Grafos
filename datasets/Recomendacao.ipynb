{
 "cells": [
  {
   "cell_type": "code",
   "execution_count": 8,
   "metadata": {},
   "outputs": [
    {
     "name": "stderr",
     "output_type": "stream",
     "text": [
      "ic| user.py:114 in iepl()- deveria_cumprido: 644.0\n",
      "ic| user.py:118 in iepl()- total/self.semestre: 644.0\n",
      "ic| user.py:120 in iepl()- self.iepl: 0.7127\n",
      "ic| user.py:27 in __init__()- self.horas_integralizadas: 816\n",
      "ic| user.py:28 in __init__()- self.semestre: 4\n",
      "ic| user.py:29 in __init__()- self.mc: 7.9982\n",
      "ic| user.py:30 in __init__()- self.iech: 0.875\n",
      "ic| user.py:31 in __init__()- self.iepl: 0.7127\n",
      "ic| user.py:32 in __init__()- self.iea: 4.9878\n"
     ]
    }
   ],
   "source": [
    "import pandas as pd\n",
    "import numpy as np\n",
    "from user import User\n",
    "from collections import deque\n",
    "usuario = User(\"historico_2022004897_murilo.pdf\")"
   ]
  },
  {
   "cell_type": "markdown",
   "metadata": {},
   "source": [
    "**Inicializacao**"
   ]
  },
  {
   "cell_type": "markdown",
   "metadata": {},
   "source": [
    "Pegar tudo que for repetir muito no codigo e inicializar aqui junto"
   ]
  },
  {
   "cell_type": "code",
   "execution_count": 9,
   "metadata": {},
   "outputs": [
    {
     "name": "stdout",
     "output_type": "stream",
     "text": [
      "['IEPG01', 'IEPG22', 'MAT00A', 'SAHC04', 'SAHC05', 'XDES01', 'ECN001', 'IEPG04', 'STCO01', 'XDES02', 'XDES04', 'XMAC01', 'ECOP02', 'ECOP12', 'IEPG10', 'SADG02', 'SDES05', 'SRSC03', 'XDES02', 'COM212', 'COM312', 'EPOP07', 'IEPG14', 'SRSC02', 'XDES03', 'XMAC02']\n"
     ]
    }
   ],
   "source": [
    "#pega todas as disciplinas Obrigatorias e optativas\n",
    "disciplinas_obrigatorias = pd.read_csv(\"materias_obrigatorias_sin.csv\", encoding=\"UTF-8\", sep=\";\")\n",
    "disciplinas_optativas = pd.read_csv('materias_optativas_sin.csv', encoding=\"UTF-8\", sep=\";\")\n",
    "\n",
    "# Combinação de disciplinas obrigatórias e optativas em um DataFrame\n",
    "disciplinas = pd.concat([disciplinas_obrigatorias, disciplinas_optativas], ignore_index=True)   \n",
    "\n",
    "#Pega o dataset, ordena por periodo e transforma em um dicionario\n",
    "Disciplinas_Semestre = disciplinas_obrigatorias.groupby('PER.')['CODIGO'].apply(list).to_dict()\n",
    "Disciplinas_Semestre\n",
    "\n",
    "#Cria uma lista de disciplinas que foram cursadas\n",
    "disciplinas_Cursadas = usuario.materias_aluno\n",
    "#retira as materias que estão sendo cursadas, exclui as que fui reprovado e as que estou matriculado.\n",
    "disciplinas_Cursadas = [linha[1] for linha in disciplinas_Cursadas if linha[0] != 'REP' or linha[0] != 'MATR' \n",
    "                        or linha[0] != 'CUMP'] \n",
    "print(disciplinas_Cursadas)\n",
    "#Cria uma lista com as materias não cursadas\n",
    "Disciplinas_Nao_Cursadas = disciplinas_obrigatorias['CODIGO'] \n",
    "Disciplinas_Nao_Cursadas= [materia for materia in Disciplinas_Nao_Cursadas if materia not in disciplinas_Cursadas]\n",
    "\n",
    "# pega o semestre que estou agora\n",
    "semestre_atual = usuario.semestre\n"
   ]
  },
  {
   "cell_type": "code",
   "execution_count": 10,
   "metadata": {},
   "outputs": [],
   "source": [
    "def getDicionarioEquivalente(df):\n",
    "    dicionario = {}\n",
    "    for _, mat in df.iterrows():\n",
    "        if mat['EQUIVALENTES'] != '-':\n",
    "            separar = mat['EQUIVALENTES'].split(', ')\n",
    "            for equiva in separar:\n",
    "                dicionario[equiva] = mat[\"CODIGO\"]\n",
    "    return(dicionario)\n",
    "\n",
    "teste = getDicionarioEquivalente(disciplinas)"
   ]
  },
  {
   "cell_type": "markdown",
   "metadata": {},
   "source": [
    "**Função que retorna as matérias que o aluno foi aprovado** \\\n",
    "Recebe: todas as materias cursadas pelo aluno \\\n",
    "Retorna: Um vetor das matéria que o aluno foi aprovado"
   ]
  },
  {
   "cell_type": "code",
   "execution_count": 11,
   "metadata": {},
   "outputs": [],
   "source": [
    "def getAprovadas(materiaAluno):\n",
    "    aprovadas = []\t\n",
    "    for mat in materiaAluno:\n",
    "        if mat[0] == 'APR' or mat[0] == 'CUMP':\n",
    "            aprovadas.append(mat[1])\n",
    "    print(aprovadas)"
   ]
  },
  {
   "cell_type": "markdown",
   "metadata": {},
   "source": [
    "**Função que retorna as matérias que ele fez** \\\n",
    "Recebe: o DataFrame das materias do curso e as materias que o aluno já se cadastrou \\\n",
    "Retorna: as materias concluidas do aluno, com o codigo sendo exclusivamente os códigos das obrigatórias, modificando os codigos de equivalentes"
   ]
  },
  {
   "cell_type": "code",
   "execution_count": 12,
   "metadata": {},
   "outputs": [],
   "source": [
    "def getConcluidas(materias, matConcluidas):\n",
    "    #transforma as materias em dicionario\n",
    "    equivalecia = getDicionarioEquivalente(materias)\n",
    "    #recebe o vetor das materias concluidas pelo aluno\n",
    "    aprovadas = getAprovadas(matConcluidas)\n",
    "    concluidas = []\n",
    "    for mat in aprovadas:\n",
    "        if mat in equivalecia:\n",
    "            concluidas.append(equivalecia[mat])\n",
    "        else:\n",
    "            concluidas.append(mat)\n",
    "    return concluidas\n"
   ]
  },
  {
   "cell_type": "markdown",
   "metadata": {},
   "source": [
    "**FUNÇÃO QUE CALCULA QUANTAS MATÉRIAS SÃO LIBERADAS E RETRONA A TABELA ORDENADA** \\\n",
    "Cria uma coluna que nos diz quantas materias são liberadas quando passamos na materia em questão"
   ]
  },
  {
   "cell_type": "code",
   "execution_count": 13,
   "metadata": {},
   "outputs": [
    {
     "data": {
      "text/html": [
       "<div>\n",
       "<style scoped>\n",
       "    .dataframe tbody tr th:only-of-type {\n",
       "        vertical-align: middle;\n",
       "    }\n",
       "\n",
       "    .dataframe tbody tr th {\n",
       "        vertical-align: top;\n",
       "    }\n",
       "\n",
       "    .dataframe thead th {\n",
       "        text-align: right;\n",
       "    }\n",
       "</style>\n",
       "<table border=\"1\" class=\"dataframe\">\n",
       "  <thead>\n",
       "    <tr style=\"text-align: right;\">\n",
       "      <th></th>\n",
       "      <th>CODIGO</th>\n",
       "      <th>DISCIPLINA</th>\n",
       "      <th>PER.</th>\n",
       "      <th>CH</th>\n",
       "      <th>PRE-REQUISITOS</th>\n",
       "      <th>EQUIVALENTES</th>\n",
       "      <th>Liberam</th>\n",
       "    </tr>\n",
       "  </thead>\n",
       "  <tbody>\n",
       "    <tr>\n",
       "      <th>14</th>\n",
       "      <td>STCO01</td>\n",
       "      <td>Algoritmos e Programação I</td>\n",
       "      <td>2</td>\n",
       "      <td>64</td>\n",
       "      <td>XDES01</td>\n",
       "      <td>COM111, ECOP02, ECOP12</td>\n",
       "      <td>3</td>\n",
       "    </tr>\n",
       "    <tr>\n",
       "      <th>0</th>\n",
       "      <td>XDES01</td>\n",
       "      <td>Fundamentos de Programação</td>\n",
       "      <td>1</td>\n",
       "      <td>64</td>\n",
       "      <td>-</td>\n",
       "      <td>COM110, ECOP11A, ECOP01, ECOP11</td>\n",
       "      <td>2</td>\n",
       "    </tr>\n",
       "    <tr>\n",
       "      <th>2</th>\n",
       "      <td>XDES03</td>\n",
       "      <td>Programação Web</td>\n",
       "      <td>3</td>\n",
       "      <td>64</td>\n",
       "      <td>XDES02</td>\n",
       "      <td>COM222, ECOX05</td>\n",
       "      <td>2</td>\n",
       "    </tr>\n",
       "    <tr>\n",
       "      <th>3</th>\n",
       "      <td>XDES04</td>\n",
       "      <td>Engenharia de Software I</td>\n",
       "      <td>2</td>\n",
       "      <td>64</td>\n",
       "      <td>-</td>\n",
       "      <td>COM210, ECOT01A, ECOT11A, ECOT0, ECOT11</td>\n",
       "      <td>2</td>\n",
       "    </tr>\n",
       "    <tr>\n",
       "      <th>18</th>\n",
       "      <td>XMAC02</td>\n",
       "      <td>Métodos Matemáticos para Análise de Dados</td>\n",
       "      <td>4</td>\n",
       "      <td>64</td>\n",
       "      <td>MAT00A, XMAC01, STCO01</td>\n",
       "      <td>MAT013</td>\n",
       "      <td>2</td>\n",
       "    </tr>\n",
       "  </tbody>\n",
       "</table>\n",
       "</div>"
      ],
      "text/plain": [
       "    CODIGO                                 DISCIPLINA  PER.  CH  \\\n",
       "14  STCO01                 Algoritmos e Programação I     2  64   \n",
       "0   XDES01                 Fundamentos de Programação     1  64   \n",
       "2   XDES03                            Programação Web     3  64   \n",
       "3   XDES04                   Engenharia de Software I     2  64   \n",
       "18  XMAC02  Métodos Matemáticos para Análise de Dados     4  64   \n",
       "\n",
       "            PRE-REQUISITOS                             EQUIVALENTES  Liberam  \n",
       "14                  XDES01                   COM111, ECOP02, ECOP12        3  \n",
       "0                        -          COM110, ECOP11A, ECOP01, ECOP11        2  \n",
       "2                   XDES02                           COM222, ECOX05        2  \n",
       "3                        -  COM210, ECOT01A, ECOT11A, ECOT0, ECOT11        2  \n",
       "18  MAT00A, XMAC01, STCO01                                   MAT013        2  "
      ]
     },
     "execution_count": 13,
     "metadata": {},
     "output_type": "execute_result"
    }
   ],
   "source": [
    "def calcularLiberam(Disciplinas_Requerimento):\n",
    "    #Cria um dicionario com o index sendo CODIGO da materia e os seus pre-requisitos como valores \n",
    "    requisitos = {codigo: pre_requisitos for codigo, pre_requisitos in zip(Disciplinas_Requerimento['CODIGO'], Disciplinas_Requerimento['PRE-REQUISITOS'])}\n",
    "    #Gera um vetor com todas as vezes que uma materia esta presente no Pre-requisito\n",
    "    liberam = []\n",
    "    for materias in requisitos:\n",
    "        if(requisitos[materias] != '-'):\n",
    "            separar = requisitos[materias].split(', ')\n",
    "            for mat in separar:\n",
    "                liberam.append(mat)\n",
    "    \n",
    "    #Cria a coluna de quantas materias uma disciplina libera quando concluida\n",
    "    Disciplinas_Requerimento[\"Liberam\"] = 0\n",
    "\n",
    "    #Faz a soma das materias de acordo com quantas vezes ela aparece no vetor\n",
    "    for materias in liberam:\n",
    "        Disciplinas_Requerimento.loc[Disciplinas_Requerimento['CODIGO'] == materias, \"Liberam\"] += 1\n",
    "            \n",
    "    #Ordena de modo que as disciplinas com mais 'Ligações' estejam acima\n",
    "    #Fomatacao do dataframe [index, CODIGO,\tDISCIPLINA,\tPER.,\tCH,\tPRE-REQUISITOS,\tLiberam]\n",
    "    Disciplinas_Requerimento = Disciplinas_Requerimento.sort_values(by=\"Liberam\", ascending=False)\n",
    "    return Disciplinas_Requerimento\n",
    "\n",
    "liberam = calcularLiberam(disciplinas_obrigatorias)\n",
    "liberam.head()"
   ]
  },
  {
   "cell_type": "markdown",
   "metadata": {},
   "source": [
    "**Substituir Equivalentes**"
   ]
  },
  {
   "cell_type": "code",
   "execution_count": 14,
   "metadata": {},
   "outputs": [],
   "source": [
    "\n",
    "def substituir_equivalentes(disciplinas_Cursadas, disciplinas_optativas, disciplinas_obrigatorias):\n",
    "    # Criar dicionários para equivalentes\n",
    "    optativas_equivalentes = {}\n",
    "    obrigatorias_equivalentes = {}\n",
    "\n",
    "    # para cada linha nas optativas\n",
    "    for _, linha in disciplinas_optativas.iterrows():\n",
    "        codigo = linha['CODIGO'] #codigo recebe o codigo da materia\n",
    "        equivalentes = linha['EQUIVALENTES'].split(', ') #equivalentes recebe as materias equivalentes\n",
    "        for equivalente in equivalentes: #para cada equivalente em equivalentes\n",
    "            optativas_equivalentes[equivalente] = codigo #obtativas_equivalentes[equivalente] vai receber o codigo\n",
    "\n",
    "    # para cada linha nas obrigatórias\n",
    "    for _, linha in disciplinas_obrigatorias.iterrows(): \n",
    "        codigo = linha['CODIGO'] #codigo recebe o codigo da materia\n",
    "        equivalentes = linha['EQUIVALENTES'].split(', ') #equivalentes recebe as materias equivalentes\n",
    "        for equivalente in equivalentes: #para cada equivalente em equivalentes\n",
    "            obrigatorias_equivalentes[equivalente] = codigo #obtativas_equivalentes[equivalente] vai receber o codigo\n",
    "\n",
    "    # para um i ate o tamanho de disciplinas cursadas\n",
    "    for i in range(len(disciplinas_Cursadas)):\n",
    "        codigo = disciplinas_Cursadas[i] # codigo vai receber o valor de disciplinas_cursadas[i]\n",
    "        if codigo in optativas_equivalentes: #se tiver o codigo em optativas_equivalentes\n",
    "            disciplinas_Cursadas[i] = optativas_equivalentes[codigo] #troco o valor da disciplinas_cursadas[i] pelo codigo da equivalente (optativa)\n",
    "        elif codigo in obrigatorias_equivalentes: #se codigo estiver em optativas_equivalentes\n",
    "            disciplinas_Cursadas[i] = obrigatorias_equivalentes[codigo] #troco o valor da disciplinas_cursadas[i] pelo codigo da equivalente (obrigatorio)\n",
    "\n",
    "# Chamada da função para substituir equivalentes na lista de disciplinas cursadas\n",
    "substituir_equivalentes(disciplinas_Cursadas, disciplinas_optativas, disciplinas_obrigatorias)"
   ]
  },
  {
   "cell_type": "markdown",
   "metadata": {},
   "source": [
    "**Recomendação Obrigatorias e Optativas**"
   ]
  },
  {
   "cell_type": "markdown",
   "metadata": {},
   "source": [
    "**Estado da arte:** \\\n",
    "      testar com alunos que repetiram uma materia - OK \\\n",
    "      testar com CCO - Ok \\\n",
    "      Equivalencias - Dataset ok, falta fazer rodar no codigo \\\n",
    "      Pre-requisitos - fazer com que foque o prerequisito antes da materia propriamente dita \\\n",
    "      Fazer com que o indice influencie na recomendação \\\n",
    "      ser feliz - daqui 1 mes \\\n",
    "      comprar casa propria "
   ]
  },
  {
   "cell_type": "code",
   "execution_count": 15,
   "metadata": {},
   "outputs": [
    {
     "data": {
      "text/html": [
       "<div>\n",
       "<style scoped>\n",
       "    .dataframe tbody tr th:only-of-type {\n",
       "        vertical-align: middle;\n",
       "    }\n",
       "\n",
       "    .dataframe tbody tr th {\n",
       "        vertical-align: top;\n",
       "    }\n",
       "\n",
       "    .dataframe thead th {\n",
       "        text-align: right;\n",
       "    }\n",
       "</style>\n",
       "<table border=\"1\" class=\"dataframe\">\n",
       "  <thead>\n",
       "    <tr style=\"text-align: right;\">\n",
       "      <th></th>\n",
       "      <th>CODIGO</th>\n",
       "      <th>DISCIPLINA</th>\n",
       "      <th>PER.</th>\n",
       "      <th>CH</th>\n",
       "      <th>PRE-REQUISITOS</th>\n",
       "      <th>EQUIVALENTES</th>\n",
       "      <th>Liberam</th>\n",
       "    </tr>\n",
       "  </thead>\n",
       "  <tbody>\n",
       "    <tr>\n",
       "      <th>14</th>\n",
       "      <td>STCO01</td>\n",
       "      <td>Algoritmos e Programação I</td>\n",
       "      <td>2</td>\n",
       "      <td>64</td>\n",
       "      <td>XDES01</td>\n",
       "      <td>COM111, ECOP02, ECOP12</td>\n",
       "      <td>3</td>\n",
       "    </tr>\n",
       "    <tr>\n",
       "      <th>0</th>\n",
       "      <td>XDES01</td>\n",
       "      <td>Fundamentos de Programação</td>\n",
       "      <td>1</td>\n",
       "      <td>64</td>\n",
       "      <td>-</td>\n",
       "      <td>COM110, ECOP11A, ECOP01, ECOP11</td>\n",
       "      <td>2</td>\n",
       "    </tr>\n",
       "    <tr>\n",
       "      <th>2</th>\n",
       "      <td>XDES03</td>\n",
       "      <td>Programação Web</td>\n",
       "      <td>3</td>\n",
       "      <td>64</td>\n",
       "      <td>XDES02</td>\n",
       "      <td>COM222, ECOX05</td>\n",
       "      <td>2</td>\n",
       "    </tr>\n",
       "    <tr>\n",
       "      <th>3</th>\n",
       "      <td>XDES04</td>\n",
       "      <td>Engenharia de Software I</td>\n",
       "      <td>2</td>\n",
       "      <td>64</td>\n",
       "      <td>-</td>\n",
       "      <td>COM210, ECOT01A, ECOT11A, ECOT0, ECOT11</td>\n",
       "      <td>2</td>\n",
       "    </tr>\n",
       "    <tr>\n",
       "      <th>18</th>\n",
       "      <td>XMAC02</td>\n",
       "      <td>Métodos Matemáticos para Análise de Dados</td>\n",
       "      <td>4</td>\n",
       "      <td>64</td>\n",
       "      <td>MAT00A, XMAC01, STCO01</td>\n",
       "      <td>MAT013</td>\n",
       "      <td>2</td>\n",
       "    </tr>\n",
       "  </tbody>\n",
       "</table>\n",
       "</div>"
      ],
      "text/plain": [
       "    CODIGO                                 DISCIPLINA  PER.  CH  \\\n",
       "14  STCO01                 Algoritmos e Programação I     2  64   \n",
       "0   XDES01                 Fundamentos de Programação     1  64   \n",
       "2   XDES03                            Programação Web     3  64   \n",
       "3   XDES04                   Engenharia de Software I     2  64   \n",
       "18  XMAC02  Métodos Matemáticos para Análise de Dados     4  64   \n",
       "\n",
       "            PRE-REQUISITOS                             EQUIVALENTES  Liberam  \n",
       "14                  XDES01                   COM111, ECOP02, ECOP12        3  \n",
       "0                        -          COM110, ECOP11A, ECOP01, ECOP11        2  \n",
       "2                   XDES02                           COM222, ECOX05        2  \n",
       "3                        -  COM210, ECOT01A, ECOT11A, ECOT0, ECOT11        2  \n",
       "18  MAT00A, XMAC01, STCO01                                   MAT013        2  "
      ]
     },
     "execution_count": 15,
     "metadata": {},
     "output_type": "execute_result"
    }
   ],
   "source": [
    "def recomendaOptativas(cursadas, optativas):\n",
    "    APH = ['XAHC06', 'IEPG21', 'ADM08H', 'ADM52H', 'ADM54H', 'ADM58H', 'ADM51H']\n",
    "    if any(set(APH).intersection(cursadas)):\n",
    "        for optativa in optativas:\n",
    "            return optativa\n",
    "    else:\n",
    "        for optativa in optativas:\n",
    "            if optativa in APH:\n",
    "                return optativa\n",
    "\n",
    "Disciplinas_Requerimento = calcularLiberam(disciplinas_obrigatorias)\n",
    "Disciplinas_Requerimento.head()"
   ]
  },
  {
   "cell_type": "code",
   "execution_count": 16,
   "metadata": {},
   "outputs": [
    {
     "name": "stdout",
     "output_type": "stream",
     "text": [
      "Recomendações para o próximo semestre:\n",
      "SPAD02 - Banco de Dados II\n",
      "SPAD03 - Introdução à Análise de Dados\n",
      "XRSC01 - Redes de Computadores\n",
      "ADM51E - Gestão do Conhecimento\n",
      "STCO02 - Algoritmos e Programação II\n",
      "Semestre que estou cursando: 4\n"
     ]
    },
    {
     "name": "stderr",
     "output_type": "stream",
     "text": [
      "C:\\Users\\bruno\\AppData\\Local\\Temp\\ipykernel_18004\\611357505.py:11: SettingWithCopyWarning: \n",
      "A value is trying to be set on a copy of a slice from a DataFrame.\n",
      "Try using .loc[row_indexer,col_indexer] = value instead\n",
      "\n",
      "See the caveats in the documentation: https://pandas.pydata.org/pandas-docs/stable/user_guide/indexing.html#returning-a-view-versus-a-copy\n",
      "  disciplinas_obrigatorias_proximo['Disciplina_Liberam'] = disciplinas_obrigatorias_proximo['CODIGO'].map(Disciplina_Liberam)\n",
      "C:\\Users\\bruno\\AppData\\Local\\Temp\\ipykernel_18004\\611357505.py:16: SettingWithCopyWarning: \n",
      "A value is trying to be set on a copy of a slice from a DataFrame.\n",
      "Try using .loc[row_indexer,col_indexer] = value instead\n",
      "\n",
      "See the caveats in the documentation: https://pandas.pydata.org/pandas-docs/stable/user_guide/indexing.html#returning-a-view-versus-a-copy\n",
      "  disciplinas_obrigatorias_passados['Disciplina_Liberam'] = disciplinas_obrigatorias_passados['CODIGO'].map(Disciplina_Liberam)\n"
     ]
    }
   ],
   "source": [
    "recomendacoes = []\n",
    "# Criação do dicionário Disciplina_Liberam\n",
    "Disciplina_Liberam = Disciplinas_Requerimento[['DISCIPLINA', 'Liberam']].set_index('DISCIPLINA')['Liberam'].to_dict()\n",
    "\n",
    "# Filtra as disciplinas não cursadas\n",
    "disciplinas_obrigatorias_nao_cursadas = disciplinas_obrigatorias[~disciplinas_obrigatorias['DISCIPLINA'].isin(disciplinas_Cursadas)]\n",
    "disciplinas_optativas_nao_cursadas = disciplinas_optativas[~disciplinas_optativas['DISCIPLINA'].isin(disciplinas_Cursadas)]\n",
    "\n",
    "# Ordena as disciplinas obrigatórias do próximo semestre\n",
    "disciplinas_obrigatorias_proximo = disciplinas_obrigatorias_nao_cursadas[disciplinas_obrigatorias_nao_cursadas['PER.'] == semestre_atual + 1]\n",
    "disciplinas_obrigatorias_proximo['Disciplina_Liberam'] = disciplinas_obrigatorias_proximo['CODIGO'].map(Disciplina_Liberam)\n",
    "disciplinas_obrigatorias_proximo = disciplinas_obrigatorias_proximo.sort_values(by=['Disciplina_Liberam'], ascending=[False])\n",
    "\n",
    "# Verifica disciplinas obrigatórias dos semestres anteriores, que não foram cursadas\n",
    "disciplinas_obrigatorias_passados = disciplinas_obrigatorias_nao_cursadas[disciplinas_obrigatorias_nao_cursadas['PER.'] < semestre_atual]\n",
    "disciplinas_obrigatorias_passados['Disciplina_Liberam'] = disciplinas_obrigatorias_passados['CODIGO'].map(Disciplina_Liberam)\n",
    "disciplinas_obrigatorias_passados = disciplinas_obrigatorias_passados.sort_values(by=['Disciplina_Liberam'], ascending=[False])\n",
    "\n",
    "#recomendacao de obrigatorias\n",
    "for _, row in disciplinas_obrigatorias_proximo.iterrows():\n",
    "    if row[\"CODIGO\"] not in disciplinas_Cursadas and len(recomendacoes) < 5:\n",
    "        recomendacoes.append(f'{row[\"CODIGO\"]} - {row[\"DISCIPLINA\"]}')\n",
    "\n",
    "#recomendacao de obrigatorias dos semestres passados\n",
    "#que por algum motivo nao cursei\n",
    "for _, row in disciplinas_obrigatorias_passados.iterrows():\n",
    "    if row[\"CODIGO\"] not in disciplinas_Cursadas and len(recomendacoes) < 5:\n",
    "        recomendacoes.append(f'{row[\"CODIGO\"]} - {row[\"DISCIPLINA\"]}')\n",
    "\n",
    "# Se não foram recomendadas 5 disciplinas, verificar disciplinas optativas\n",
    "if len(recomendacoes) < 5:\n",
    "    # Ordenação das disciplinas optativas não cursadas com base na carga horária (CH) e pré-requisitos\n",
    "    disciplinas_optativas_nao_cursadas['Disciplina_Liberam'] = disciplinas_optativas_nao_cursadas['CODIGO'].map(Disciplina_Liberam)\n",
    "    disciplinas_optativas_nao_cursadas = disciplinas_optativas_nao_cursadas.sort_values(by=['Disciplina_Liberam', 'CH'], ascending=[False, True])\n",
    "\n",
    "    for _, row in disciplinas_optativas_nao_cursadas.iterrows():\n",
    "        if row[\"CODIGO\"] not in disciplinas_Cursadas and all(prereq in disciplinas_Cursadas for prereq in row['PRE-REQUISITOS'].split(', ')) and len(recomendacoes) < 5:\n",
    "            recomendacoes.append(f'{row[\"CODIGO\"]} - {row[\"DISCIPLINA\"]}')\n",
    "\n",
    "# Impressão das recomendações e semestre atual\n",
    "print(\"Recomendações para o próximo semestre:\")\n",
    "for recom in recomendacoes:\n",
    "    print(recom)\n",
    "\n",
    "print(\"Semestre que estou cursando:\", semestre_atual)\n"
   ]
  },
  {
   "cell_type": "markdown",
   "metadata": {},
   "source": [
    "**Explicações da logica** "
   ]
  },
  {
   "cell_type": "markdown",
   "metadata": {},
   "source": [
    "Combina obrigatórias e optativas em um DataFrame"
   ]
  },
  {
   "cell_type": "code",
   "execution_count": 17,
   "metadata": {},
   "outputs": [],
   "source": [
    "disciplinas = pd.concat([disciplinas_obrigatorias, disciplinas_optativas], ignore_index=True)\n",
    "\n",
    "# usando um comando que veio ao importar o pandas, é possivel unir dataframes\n",
    "# pd.concat([Dataframe1, Dataframe2]) -> o ignore_index é somente para literalmente juntar os 2 dataframes de forma que não ligue para o index"
   ]
  },
  {
   "cell_type": "markdown",
   "metadata": {},
   "source": [
    "Procurar as disciplinas obrigatórias e optativas que não foram cursadas\n"
   ]
  },
  {
   "cell_type": "code",
   "execution_count": 18,
   "metadata": {},
   "outputs": [
    {
     "ename": "NameError",
     "evalue": "name 'Disciplinas_Cursadas' is not defined",
     "output_type": "error",
     "traceback": [
      "\u001b[1;31m---------------------------------------------------------------------------\u001b[0m",
      "\u001b[1;31mNameError\u001b[0m                                 Traceback (most recent call last)",
      "\u001b[1;32mc:\\Users\\bruno\\OneDrive\\Documentos\\GitHub\\Trabalho_de_Grafos\\datasets\\Recomendacao.ipynb Cell 22\u001b[0m line \u001b[0;36m1\n\u001b[1;32m----> <a href='vscode-notebook-cell:/c%3A/Users/bruno/OneDrive/Documentos/GitHub/Trabalho_de_Grafos/datasets/Recomendacao.ipynb#X30sZmlsZQ%3D%3D?line=0'>1</a>\u001b[0m disciplinas_obrigatorias_nao_cursadas \u001b[39m=\u001b[39m disciplinas_obrigatorias[\u001b[39m~\u001b[39mdisciplinas_obrigatorias[\u001b[39m'\u001b[39m\u001b[39mDISCIPLINA\u001b[39m\u001b[39m'\u001b[39m]\u001b[39m.\u001b[39misin(Disciplinas_Cursadas)]\n\u001b[0;32m      <a href='vscode-notebook-cell:/c%3A/Users/bruno/OneDrive/Documentos/GitHub/Trabalho_de_Grafos/datasets/Recomendacao.ipynb#X30sZmlsZQ%3D%3D?line=2'>3</a>\u001b[0m \u001b[39m# disciplinas_obrigatorias['DISCIPLINA'].isin(Disciplinas_Cursadas)\u001b[39;00m\n\u001b[0;32m      <a href='vscode-notebook-cell:/c%3A/Users/bruno/OneDrive/Documentos/GitHub/Trabalho_de_Grafos/datasets/Recomendacao.ipynb#X30sZmlsZQ%3D%3D?line=3'>4</a>\u001b[0m \u001b[39m# essa parte cria uma \"serie booleana\" que caso cada disciplinas obrigatoria esteja presente nas cursadas retorna true, caso contrario false.\u001b[39;00m\n\u001b[0;32m      <a href='vscode-notebook-cell:/c%3A/Users/bruno/OneDrive/Documentos/GitHub/Trabalho_de_Grafos/datasets/Recomendacao.ipynb#X30sZmlsZQ%3D%3D?line=4'>5</a>\u001b[0m \n\u001b[1;32m   (...)\u001b[0m\n\u001b[0;32m      <a href='vscode-notebook-cell:/c%3A/Users/bruno/OneDrive/Documentos/GitHub/Trabalho_de_Grafos/datasets/Recomendacao.ipynb#X30sZmlsZQ%3D%3D?line=7'>8</a>\u001b[0m \n\u001b[0;32m      <a href='vscode-notebook-cell:/c%3A/Users/bruno/OneDrive/Documentos/GitHub/Trabalho_de_Grafos/datasets/Recomendacao.ipynb#X30sZmlsZQ%3D%3D?line=8'>9</a>\u001b[0m \u001b[39m# a mesma lógica se aplica para as materias optativas!!\u001b[39;00m\n",
      "\u001b[1;31mNameError\u001b[0m: name 'Disciplinas_Cursadas' is not defined"
     ]
    }
   ],
   "source": [
    "disciplinas_obrigatorias_nao_cursadas = disciplinas_obrigatorias[~disciplinas_obrigatorias['DISCIPLINA'].isin(Disciplinas_Cursadas)]\n",
    "\n",
    "# disciplinas_obrigatorias['DISCIPLINA'].isin(Disciplinas_Cursadas)\n",
    "# essa parte cria uma \"serie booleana\" que caso cada disciplinas obrigatoria esteja presente nas cursadas retorna true, caso contrario false.\n",
    "\n",
    "# o \"~\" esta invertendo os valores, dessa forma estou pegando as disciplinas obrigatorias que NÃO foram cursadas.\n",
    "# o resultado disso armazeno na Disciplina_obrigatorias_nao_cursadas\n",
    "\n",
    "# a mesma lógica se aplica para as materias optativas!!"
   ]
  },
  {
   "cell_type": "markdown",
   "metadata": {},
   "source": [
    "Ordenar as disciplinas obrigatórias do próximo semestre"
   ]
  },
  {
   "cell_type": "code",
   "execution_count": null,
   "metadata": {},
   "outputs": [
    {
     "name": "stderr",
     "output_type": "stream",
     "text": [
      "C:\\Users\\bruno\\AppData\\Local\\Temp\\ipykernel_14448\\46377514.py:5: SettingWithCopyWarning: \n",
      "A value is trying to be set on a copy of a slice from a DataFrame.\n",
      "Try using .loc[row_indexer,col_indexer] = value instead\n",
      "\n",
      "See the caveats in the documentation: https://pandas.pydata.org/pandas-docs/stable/user_guide/indexing.html#returning-a-view-versus-a-copy\n",
      "  disciplinas_obrigatorias_proximo['Quantidade_Liberada'] = disciplinas_obrigatorias_proximo['CODIGO'].map(Disciplina_Liberam)\n"
     ]
    }
   ],
   "source": [
    "disciplinas_obrigatorias_proximo = disciplinas_obrigatorias_nao_cursadas[disciplinas_obrigatorias_nao_cursadas['PER.'] == semestre_atual + 1]\n",
    "# aqui estou friltrando as disciplinas obrigatorias que ainda não foram cursadas para o proximo semestre (semestre_atual + 1)\n",
    "# dessa forma ao comparar [PER.] == semestre_atual+1 estou pegando apenas as disciplinas do proximo semestre.\n",
    "\n",
    "disciplinas_obrigatorias_proximo['Quantidade_Liberada'] = disciplinas_obrigatorias_proximo['CODIGO'].map(Disciplina_Liberam)\n",
    "# Cria uma coluna chamada 'Disciplina_Liberam' no dataframe\n",
    "# Na coluna insiro valores que resultam da aplicação de 'Disciplinas_liberam' em cada elemento da coluna 'CODIGO'\n",
    "\n",
    "disciplinas_obrigatorias_proximo = disciplinas_obrigatorias_proximo.sort_values(by=['Quantidade_Liberada'], ascending=[False])\n",
    "# ordeno as disciplinas com base na 'Quantidade_liberada' em ordem decrescente\n",
    "# as disciplinas com maior quantidade liberada vão estar em cima\n",
    "\n",
    "recomendacoes = [f'{row[\"CODIGO\"]} - {row[\"DISCIPLINA\"]}' for _, row in disciplinas_obrigatorias_proximo.iterrows()]\n",
    "# Aqui estou usando o dataframe disciplinas_obrigatorias_proximo \n",
    "# para cada linha gera uma string contendo o código e o nome da disciplina. \n",
    "# Essas strings são armazenadas na lista recomendacoes.\n",
    "\n",
    "# OBS: O ' _ ' indica que não estou usando o valor do índice. O 'row' representa os dados da linha atual em cada iteração."
   ]
  },
  {
   "cell_type": "markdown",
   "metadata": {},
   "source": [
    "Verificar disciplinas obrigatórias dos semestres anteriores que o aluno deixou de cursar"
   ]
  },
  {
   "cell_type": "code",
   "execution_count": null,
   "metadata": {},
   "outputs": [
    {
     "name": "stderr",
     "output_type": "stream",
     "text": [
      "C:\\Users\\bruno\\AppData\\Local\\Temp\\ipykernel_14448\\554352038.py:6: SettingWithCopyWarning: \n",
      "A value is trying to be set on a copy of a slice from a DataFrame.\n",
      "Try using .loc[row_indexer,col_indexer] = value instead\n",
      "\n",
      "See the caveats in the documentation: https://pandas.pydata.org/pandas-docs/stable/user_guide/indexing.html#returning-a-view-versus-a-copy\n",
      "  disciplinas_obrigatorias_passados['Disciplina_Liberam'] = disciplinas_obrigatorias_passados['CODIGO'].map(Disciplina_Liberam)\n"
     ]
    }
   ],
   "source": [
    "disciplinas_obrigatorias_passados = disciplinas_obrigatorias_nao_cursadas[disciplinas_obrigatorias_nao_cursadas['PER.'] < semestre_atual]\n",
    "# Aqui seleciono as disciplinas obrigatórias que não foram cursadas até o semestre atual. \n",
    "# usando a condição de que o valor na coluna 'PER.' seja menor que o valor de semestre_atual\n",
    "# assim faço com que o disciplinas_obrigatorias_passados receba somente as disciplinas que eu não fiz dos semestres passados\n",
    "\n",
    "disciplinas_obrigatorias_passados['Disciplina_Liberam'] = disciplinas_obrigatorias_passados['CODIGO'].map(Disciplina_Liberam)\n",
    "# Acessa a coluna 'CODIGO' no disciplinas_obrigatorias_passados e faz retornar os valores que representam os códigos das disciplinas obrigatórias passadas.\n",
    "# para cada código de disciplina, o valor correspondente no dict Disciplina_Liberam será atribuído à nova coluna 'Disciplina_Liberam'.\n",
    "# em resumo cria uma nova coluna que mostra a quantidade de disciplinas que cada disciplina obrigatória passada pode liberar\n",
    "# esse \"passada\" diz respeito as materias dos semestres passados\n",
    "\n",
    "disciplinas_obrigatorias_passados = disciplinas_obrigatorias_passados.sort_values(by=['Disciplina_Liberam'], ascending=[False])\n",
    "# Ordenar as o dataframe por Disciplina_liberam (pontos criticos aparecem primeiro)"
   ]
  },
  {
   "cell_type": "markdown",
   "metadata": {},
   "source": [
    "Recomendacao das Disciplinas"
   ]
  },
  {
   "cell_type": "code",
   "execution_count": null,
   "metadata": {},
   "outputs": [],
   "source": [
    "for _, row in disciplinas_obrigatorias_passados.iterrows():\n",
    "    if row[\"CODIGO\"] not in disciplinas_Cursadas and len(recomendacoes) < 5:\n",
    "        recomendacoes.append(f'{row[\"CODIGO\"]} - {row[\"DISCIPLINA\"]}')\n",
    "# Para cada linha em disciplina obrigatória passada, verifica se o código da disciplina não está na lista de disciplinas já cursadas\n",
    "# e se o número de recomendações é menor que 5\n",
    "# adiciona o codigo e a disciplina na recomendacao\n",
    "\n",
    "if len(recomendacoes) < 5:\n",
    "    disciplinas_optativas_nao_cursadas['Disciplina_Liberam'] = disciplinas_optativas_nao_cursadas['CODIGO'].map(Disciplina_Liberam)\n",
    "    disciplinas_optativas_nao_cursadas = disciplinas_optativas_nao_cursadas.sort_values(by=['Disciplina_Liberam', 'CH'], ascending=[False, True])\n",
    "\n",
    "    for _, row in disciplinas_optativas_nao_cursadas.iterrows():\n",
    "        if row[\"CODIGO\"] not in disciplinas_Cursadas and all(prereq in disciplinas_Cursadas for prereq in row['PRE-REQUISITOS'].split(', ')) and len(recomendacoes) < 5:\n",
    "            recomendacoes.append(f'{row[\"CODIGO\"]} - {row[\"DISCIPLINA\"]}')\n",
    "            \n",
    "# Se o número de recomendações for menor que 5 após as recomendações das disciplinas obrigatórias,\n",
    "# ordena as disciplinas optativas não cursadas por Disciplina_Liberam(pontos criticos aparecem primeiro) e na carga horária,\n",
    "# para cada disciplina optativa, verifica se o código não está na lista de disciplinas já cursadas, \n",
    "# se todos os pré-requisitos estão nas disciplinas cursadas e se o número de recomendações é menor que 5,\n",
    "# adiciona o codigo e a disciplina na recomendacao"
   ]
  }
 ],
 "metadata": {
  "kernelspec": {
   "display_name": "Python 3.12.0 64-bit",
   "language": "python",
   "name": "python3"
  },
  "language_info": {
   "codemirror_mode": {
    "name": "ipython",
    "version": 3
   },
   "file_extension": ".py",
   "mimetype": "text/x-python",
   "name": "python",
   "nbconvert_exporter": "python",
   "pygments_lexer": "ipython3",
   "version": "3.12.0"
  },
  "vscode": {
   "interpreter": {
    "hash": "3df3bc06b03e2c601c106e06ae92d0ab93d25018b953a2cb68f76b6361b85090"
   }
  }
 },
 "nbformat": 4,
 "nbformat_minor": 2
}
